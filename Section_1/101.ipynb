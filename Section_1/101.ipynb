{
 "cells": [
  {
   "cell_type": "code",
   "execution_count": 2,
   "metadata": {},
   "outputs": [
    {
     "data": {
      "text/plain": [
       "[(1, 3),\n",
       " (2, 3),\n",
       " (3, 3),\n",
       " (5, 3),\n",
       " (8, 3),\n",
       " (0, 2),\n",
       " (4, 2),\n",
       " (6, 2),\n",
       " (7, 2),\n",
       " (9, 1)]"
      ]
     },
     "execution_count": 2,
     "metadata": {},
     "output_type": "execute_result"
    }
   ],
   "source": [
    "users = [\n",
    "    {\"id\": 0, \"name\": \"Hero\"},\n",
    "    {\"id\": 1, \"name\": \"Dunn\"},\n",
    "    {\"id\": 2, \"name\": \"Sue\"},\n",
    "    {\"id\": 3, \"name\": \"Chi\"},\n",
    "    {\"id\": 4, \"name\": \"Thor\"},\n",
    "    {\"id\": 5, \"name\": \"Clive\"},\n",
    "    {\"id\": 6, \"name\": \"Hicks\"},\n",
    "    {\"id\": 7, \"name\": \"Devin\"},\n",
    "    {\"id\": 8, \"name\": \"Kate\"},\n",
    "    {\"id\": 9, \"name\": \"Klein\"}\n",
    "]\n",
    "\n",
    "friendships = [(0, 1), (0, 2), (1, 2), (1, 3), (2, 3), (3, 4),\n",
    "                (4, 5), (5, 6), (5, 7), (6, 8), (7, 8), (8, 9)]\n",
    "\n",
    "for user in users:\n",
    "    user[\"friends\"] = []\n",
    "\n",
    "for i, j in friendships:\n",
    "    # IDがiのユーザは，users[i]で表される\n",
    "    users[i][\"friends\"].append(users[j])\n",
    "    users[j][\"friends\"].append(users[i])\n",
    "\n",
    "def number_of_friends(user):\n",
    "    \"\"\"各ユーザは，何院の友人を持つだろうか\"\"\"\n",
    "    return len(user[\"friends\"])\n",
    "\n",
    "total_connections = sum(number_of_friends(user) for user in users)\n",
    "\n",
    "from __future__ import division\n",
    "num_users = len(users)\n",
    "avg_connections = total_connections / num_users\n",
    "\n",
    "# リストを作成(user_id, number_of_friends)\n",
    "num_friends_by_id = [(user[\"id\"], number_of_friends(user)) for user in users]\n",
    "\n",
    "sorted(num_friends_by_id,\n",
    "       key=lambda user_id_num_friends: user_id_num_friends[1],\n",
    "       reverse=True)"
   ]
  },
  {
   "cell_type": "code",
   "execution_count": 3,
   "metadata": {},
   "outputs": [
    {
     "name": "stdout",
     "output_type": "stream",
     "text": [
      "[0, 2, 3, 0, 1, 3]\n",
      "[1, 2]\n",
      "[0, 2, 3]\n",
      "[0, 1, 3]\n"
     ]
    }
   ],
   "source": [
    "def friends_of_friend_ids_bad(user):\n",
    "    # \"foaf\"は，\"friend of a friend\"の略\n",
    "    return [foaf[\"id\"]\n",
    "            for friend in user[\"friends\"]  # ユーザの友人それぞれに対して\n",
    "            for foaf in friend[\"friends\"]] # その友人の友人を取得\n",
    "\n",
    "print(friends_of_friend_ids_bad(users[0]))  # Heroの友人の友人のID\n",
    "\n",
    "print([friend[\"id\"] for friend in users[0][\"friends\"]])  # Heroの友人のID\n",
    "print([friend[\"id\"] for friend in users[1][\"friends\"]])  # Dunnの友人のID\n",
    "print([friend[\"id\"] for friend in users[2][\"friends\"]])  # Sueの友人のID"
   ]
  },
  {
   "cell_type": "code",
   "execution_count": 6,
   "metadata": {},
   "outputs": [
    {
     "name": "stdout",
     "output_type": "stream",
     "text": [
      "Counter({0: 2, 5: 1})\n"
     ]
    }
   ],
   "source": [
    "from collections import Counter \n",
    "\n",
    "def not_the_same(user, other_user):\n",
    "    \"\"\"異なるidを持つユーザは他人である\"\"\"\n",
    "    return user[\"id\"] != other_user[\"id\"]\n",
    "\n",
    "def not_friends(user, other_user):\n",
    "    \"\"\"other_userは，user[\"friends\"]の要素でなければ，友人ではない\n",
    "    つまり，user[\"friends\"]の誰とも一致しなかったということ\"\"\"\n",
    "    return all(not_the_same(friend, other_user) for friend in user[\"friends\"])\n",
    "\n",
    "def friends_of_friend_ids(user):\n",
    "    return Counter(foaf[\"id\"] \n",
    "                   for friend in user[\"friends\"] \n",
    "                   for foaf in friend[\"friends\"] \n",
    "                   if not_the_same(user, foaf) \n",
    "                   and not_friends(user, foaf))\n",
    "\n",
    "print(friends_of_friend_ids(users[3]))"
   ]
  },
  {
   "cell_type": "code",
   "execution_count": 3,
   "metadata": {},
   "outputs": [],
   "source": [
    "interests = [\n",
    "    (0, \"Hadoop\"), (0, \"Big Data\"), (0, \"HBase\"), (0, \"Java\"),\n",
    "    (0, \"Spark\"), (0, \"Storm\"), (0, \"Cassandra\"),\n",
    "    (1, \"NoSQL\"), (1, \"MongoDB\"), (1, \"Cassandra\"), (1, \"HBase\"),\n",
    "    (1, \"Postgres\"), (2, \"Python\"), (2, \"scikit-learn\"), (2, \"scipy\"),\n",
    "    (2, \"numpy\"), (2, \"statsmodels\"), (2, \"pandas\"), (3, \"R\"), (3, \"Python\"),\n",
    "    (3, \"statistics\"), (3, \"regression\"), (3, \"probability\"),\n",
    "    (4, \"machine learning\"), (4, \"regression\"), (4, \"decision trees\"),\n",
    "    (4, \"libsvm\"), (5, \"Python\"), (5, \"R\"), (5, \"Java\"), (5, \"C++\"),\n",
    "    (5, \"Haskell\"), (5, \"programming languages\"), (6, \"statistics\"),\n",
    "    (6, \"probability\"), (6, \"mathematics\"), (6, \"theory\"),\n",
    "    (7, \"machine learning\"), (7, \"scikit-learn\"), (7, \"Mahout\"),\n",
    "    (7, \"neural networks\"), (8, \"neural networks\"), (8, \"deep learning\"),\n",
    "    (8, \"Big Data\"), (8, \"artificial intelligence\"), (9, \"Hadoop\"),\n",
    "    (9, \"Java\"), (9, \"MapReduce\"), (9, \"Big Data\")\n",
    "]"
   ]
  },
  {
   "cell_type": "code",
   "execution_count": 4,
   "metadata": {},
   "outputs": [],
   "source": [
    "def data_scientists_who_like(target_interest):\n",
    "    return [user_id for user_id, user_interest in interests if user_interest == target_interest]"
   ]
  },
  {
   "cell_type": "code",
   "execution_count": 5,
   "metadata": {},
   "outputs": [],
   "source": [
    "from collections import defaultdict\n",
    "\n",
    "# 興味をキーとして，関連するユーザのリストを値とする辞書を作成する\n",
    "user_ids_by_interest = defaultdict(list)\n",
    "\n",
    "for user_id, interest in interests:\n",
    "    user_ids_by_interest[interest].append(user_id)\n",
    "\n",
    "# ユーザをキーとして，関連する興味のリストを値とする辞書を作成する\n",
    "interests_by_user_id = defaultdict(list)\n",
    "\n",
    "for user_id, interest in interests:\n",
    "    interests_by_user_id[user_id].append(interest)"
   ]
  },
  {
   "cell_type": "code",
   "execution_count": 6,
   "metadata": {},
   "outputs": [],
   "source": [
    "def most_common_interests_with(user):\n",
    "    return Counter(interested_user_id\n",
    "                   for interest in interests_by_user_id[user[\"id\"]]\n",
    "                   for interested_user_id in user_ids_by_interest[interest]\n",
    "                   if interested_user_id != user[\"id\"])"
   ]
  },
  {
   "cell_type": "code",
   "execution_count": null,
   "metadata": {},
   "outputs": [],
   "source": []
  }
 ],
 "metadata": {
  "kernelspec": {
   "display_name": "Python 3",
   "language": "python",
   "name": "python3"
  },
  "language_info": {
   "codemirror_mode": {
    "name": "ipython",
    "version": 3
   },
   "file_extension": ".py",
   "mimetype": "text/x-python",
   "name": "python",
   "nbconvert_exporter": "python",
   "pygments_lexer": "ipython3",
   "version": "3.12.5"
  }
 },
 "nbformat": 4,
 "nbformat_minor": 2
}
